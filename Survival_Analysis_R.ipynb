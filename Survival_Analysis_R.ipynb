{
  "nbformat": 4,
  "nbformat_minor": 0,
  "metadata": {
    "colab": {
      "name": "Survival Analysis",
      "provenance": [],
      "authorship_tag": "ABX9TyPnaO8Dnkui8f2jw3KaY2en"
    },
    "kernelspec": {
      "name": "python3",
      "display_name": "Python 3"
    }
  },
  "cells": [
    {
      "cell_type": "code",
      "metadata": {
        "id": "a_7-_HH6wx8Q",
        "colab_type": "code",
        "colab": {
          "base_uri": "https://localhost:8080/",
          "height": 102
        },
        "outputId": "1fbc2601-9184-4ce5-bc86-a7c00d684f32"
      },
      "source": [
        "!jupyter-kernelspec list"
      ],
      "execution_count": 1,
      "outputs": [
        {
          "output_type": "stream",
          "text": [
            "Available kernels:\n",
            "  ir         /usr/local/share/jupyter/kernels/ir\n",
            "  python2    /usr/local/share/jupyter/kernels/python2\n",
            "  python3    /usr/local/share/jupyter/kernels/python3\n",
            "  swift      /usr/local/share/jupyter/kernels/swift\n"
          ],
          "name": "stdout"
        }
      ]
    },
    {
      "cell_type": "code",
      "metadata": {
        "id": "jYLAUJ8-xT_F",
        "colab_type": "code",
        "colab": {}
      },
      "source": [
        "# activate R magic\n",
        "%load_ext rpy2.ipython"
      ],
      "execution_count": 0,
      "outputs": []
    },
    {
      "cell_type": "code",
      "metadata": {
        "id": "_QupZswexWC6",
        "colab_type": "code",
        "colab": {
          "base_uri": "https://localhost:8080/",
          "height": 493
        },
        "outputId": "9a580874-f15b-49e6-ee2b-76c65441257f"
      },
      "source": [
        "%%R\n",
        "library(survival)\n",
        "library(tidyverse)\n",
        "dat <- pbc\n",
        "head(dat)\n"
      ],
      "execution_count": 5,
      "outputs": [
        {
          "output_type": "stream",
          "text": [
            "/usr/local/lib/python3.6/dist-packages/rpy2/rinterface/__init__.py:146: RRuntimeWarning: ── Attaching packages ─────────────────────────────────────── tidyverse 1.3.0 ──\n",
            "\n",
            "  warnings.warn(x, RRuntimeWarning)\n",
            "/usr/local/lib/python3.6/dist-packages/rpy2/rinterface/__init__.py:146: RRuntimeWarning: ✔ ggplot2 3.2.1     ✔ purrr   0.3.3\n",
            "✔ tibble  2.1.3     ✔ dplyr   0.8.3\n",
            "✔ tidyr   1.0.2     ✔ stringr 1.4.0\n",
            "✔ readr   1.3.1     ✔ forcats 0.4.0\n",
            "\n",
            "  warnings.warn(x, RRuntimeWarning)\n",
            "/usr/local/lib/python3.6/dist-packages/rpy2/rinterface/__init__.py:146: RRuntimeWarning: ── Conflicts ────────────────────────────────────────── tidyverse_conflicts() ──\n",
            "✖ dplyr::filter() masks stats::filter()\n",
            "✖ dplyr::lag()    masks stats::lag()\n",
            "\n",
            "  warnings.warn(x, RRuntimeWarning)\n"
          ],
          "name": "stderr"
        },
        {
          "output_type": "display_data",
          "data": {
            "text/plain": [
              "  id time status trt      age sex ascites hepato spiders edema bili chol\n",
              "1  1  400      2   1 58.76523   f       1      1       1   1.0 14.5  261\n",
              "2  2 4500      0   1 56.44627   f       0      1       1   0.0  1.1  302\n",
              "3  3 1012      2   1 70.07255   m       0      0       0   0.5  1.4  176\n",
              "4  4 1925      2   1 54.74059   f       0      1       1   0.5  1.8  244\n",
              "5  5 1504      1   2 38.10541   f       0      1       1   0.0  3.4  279\n",
              "6  6 2503      2   2 66.25873   f       0      1       0   0.0  0.8  248\n",
              "  albumin copper alk.phos    ast trig platelet protime stage\n",
              "1    2.60    156   1718.0 137.95  172      190    12.2     4\n",
              "2    4.14     54   7394.8 113.52   88      221    10.6     3\n",
              "3    3.48    210    516.0  96.10   55      151    12.0     4\n",
              "4    2.54     64   6121.8  60.63   92      183    10.3     4\n",
              "5    3.53    143    671.0 113.15   72      136    10.9     3\n",
              "6    3.98     50    944.0  93.00   63       NA    11.0     3\n"
            ]
          },
          "metadata": {
            "tags": []
          }
        }
      ]
    },
    {
      "cell_type": "code",
      "metadata": {
        "id": "NXYzGf-ZykC4",
        "colab_type": "code",
        "colab": {
          "base_uri": "https://localhost:8080/",
          "height": 51
        },
        "outputId": "39a88328-16ed-4608-e2dd-2b1672413990"
      },
      "source": [
        "%%R\n",
        "summary(dat$time / 365.25)"
      ],
      "execution_count": 7,
      "outputs": [
        {
          "output_type": "display_data",
          "data": {
            "text/plain": [
              "   Min. 1st Qu.  Median    Mean 3rd Qu.    Max. \n",
              " 0.1123  2.9918  4.7365  5.2506  7.1554 13.1280 \n"
            ]
          },
          "metadata": {
            "tags": []
          }
        }
      ]
    },
    {
      "cell_type": "code",
      "metadata": {
        "id": "zb2GJRZGykFz",
        "colab_type": "code",
        "colab": {
          "base_uri": "https://localhost:8080/",
          "height": 531
        },
        "outputId": "905fd83c-62d2-4084-ff67-f45e2a57b4af"
      },
      "source": [
        "%%R\n",
        "hist(dat$age)\n",
        "summary(dat$age)"
      ],
      "execution_count": 8,
      "outputs": [
        {
          "output_type": "display_data",
          "data": {
            "text/plain": [
              "   Min. 1st Qu.  Median    Mean 3rd Qu.    Max. \n",
              "  26.28   42.83   51.00   50.74   58.24   78.44 \n"
            ]
          },
          "metadata": {
            "tags": []
          }
        },
        {
          "output_type": "display_data",
          "data": {
            "image/png": "[encoded data removed]"
          },
          "metadata": {
            "tags": []
          }
        }
      ]
    },
    {
      "cell_type": "code",
      "metadata": {
        "id": "PXDB8fd3ykLv",
        "colab_type": "code",
        "colab": {
          "base_uri": "https://localhost:8080/",
          "height": 68
        },
        "outputId": "f07a8a28-7b49-4da3-9a97-fe465a6807b8"
      },
      "source": [
        "%%R\n",
        "## \n",
        "table(dat$sex)"
      ],
      "execution_count": 9,
      "outputs": [
        {
          "output_type": "display_data",
          "data": {
            "text/plain": [
              "\n",
              "  m   f \n",
              " 44 374 \n"
            ]
          },
          "metadata": {
            "tags": []
          }
        }
      ]
    },
    {
      "cell_type": "code",
      "metadata": {
        "id": "WdS8xlrLykP1",
        "colab_type": "code",
        "colab": {
          "base_uri": "https://localhost:8080/",
          "height": 531
        },
        "outputId": "cd1a641f-260d-481f-883c-cb82582bce85"
      },
      "source": [
        "%%R\n",
        "## distribution of the time to death in year\n",
        "hist(dat$time/365.25)\n",
        "summary(dat$time)"
      ],
      "execution_count": 10,
      "outputs": [
        {
          "output_type": "display_data",
          "data": {
            "text/plain": [
              "   Min. 1st Qu.  Median    Mean 3rd Qu.    Max. \n",
              "     41    1093    1730    1918    2614    4795 \n"
            ]
          },
          "metadata": {
            "tags": []
          }
        },
        {
          "output_type": "display_data",
          "data": {
            "image/png": "[encoded data removed]"
          },
          "metadata": {
            "tags": []
          }
        }
      ]
    },
    {
      "cell_type": "code",
      "metadata": {
        "id": "blSQV4ljy8nK",
        "colab_type": "code",
        "colab": {
          "base_uri": "https://localhost:8080/",
          "height": 68
        },
        "outputId": "c1130ee7-c26f-4de8-8866-aca812a7ba82"
      },
      "source": [
        "%%R\n",
        "table(dat$status)"
      ],
      "execution_count": 11,
      "outputs": [
        {
          "output_type": "display_data",
          "data": {
            "text/plain": [
              "\n",
              "  0   1   2 \n",
              "232  25 161 \n"
            ]
          },
          "metadata": {
            "tags": []
          }
        }
      ]
    },
    {
      "cell_type": "code",
      "metadata": {
        "id": "BHuii8hTy8tW",
        "colab_type": "code",
        "colab": {}
      },
      "source": [
        "%%R\n",
        "## data preparation and identifying the cesoring variable\n",
        "dat$newStatus <- ifelse(dat$status != 2, dat$newStatus <- 0, dat$newStatus <- 1)\n",
        "dat$trt <- ifelse(!is.na(dat$trt), dat$trt <- dat$trt, dat$trt <- 3)\n",
        "head(dat$status)\n",
        "head(dat$newStatus)\n",
        "dat$group <- ifelse(dat$trt == 1, dat$group <- 'D-penicillmain', ifelse(dat$trt == 2, dat$group <- 'placebo', dat$group <- 'not-randomised'))\n",
        "dat$chol = ifelse(is.na(dat$chol),\n",
        "                  ave(dat$chol, FUN = function(x) mean(x, na.rm = TRUE)),\n",
        "                  dat$chol)\n",
        "dat$albumin = ifelse(is.na(dat$albumin),\n",
        "                  ave(dat$albumin, FUN = function(x) mean(x, na.rm = TRUE)),\n",
        "                  dat$albumin)\n",
        "dat$copper = ifelse(is.na(dat$copper),\n",
        "                  ave(dat$copper, FUN = function(x) mean(x, na.rm = TRUE)),\n",
        "                  dat$copper)\n",
        "dat$alk.phos = ifelse(is.na(dat$alk.phos),\n",
        "                  ave(dat$alk.phos, FUN = function(x) mean(x, na.rm = TRUE)),\n",
        "                  dat$alk.phos)\n",
        "dat$ast = ifelse(is.na(dat$ast),\n",
        "                  ave(dat$ast, FUN = function(x) mean(x, na.rm = TRUE)),\n",
        "                  dat$ast)\n",
        "dat$trig = ifelse(is.na(dat$trig),\n",
        "                  ave(dat$trig, FUN = function(x) mean(x, na.rm = TRUE)),\n",
        "                  dat$trig)\n",
        "dat$platelet = ifelse(is.na(dat$platelet),\n",
        "                  ave(dat$platelet, FUN = function(x) mean(x, na.rm = TRUE)),\n",
        "                  dat$platelet)\n",
        "dat$protime = ifelse(is.na(dat$protime),\n",
        "                  ave(dat$protime, FUN = function(x) mean(x, na.rm = TRUE)),\n",
        "                  dat$protime)\n",
        "dat$ascites = ifelse(!is.na(dat$ascites), dat$ascites, dat$ascites <- 0)\n",
        "dat$hepato = ifelse(!is.na(dat$hepato), dat$hepato, dat$hepato <- 1)\n",
        "dat$spiders = ifelse(!is.na(dat$spiders), dat$spiders, dat$spiders <- 0)\n",
        "dat$stage = ifelse(!is.na(dat$stage), dat$stage, dat$stage <- 2)"
      ],
      "execution_count": 0,
      "outputs": []
    },
    {
      "cell_type": "code",
      "metadata": {
        "id": "JImppkP7y8yb",
        "colab_type": "code",
        "colab": {
          "base_uri": "https://localhost:8080/",
          "height": 68
        },
        "outputId": "1a9c5fb9-b7c3-414c-94f2-737e67b1961e"
      },
      "source": [
        "%%R\n",
        "## proportion of newStatus variable\n",
        "table(dat$newStatus)"
      ],
      "execution_count": 14,
      "outputs": [
        {
          "output_type": "display_data",
          "data": {
            "text/plain": [
              "\n",
              "  0   1 \n",
              "257 161 \n"
            ]
          },
          "metadata": {
            "tags": []
          }
        }
      ]
    },
    {
      "cell_type": "code",
      "metadata": {
        "id": "sf4vDbRTy81b",
        "colab_type": "code",
        "colab": {
          "base_uri": "https://localhost:8080/",
          "height": 68
        },
        "outputId": "fd63e158-73c3-4ca0-c859-52c6349aa098"
      },
      "source": [
        "%%R\n",
        "table(dat$group)"
      ],
      "execution_count": 15,
      "outputs": [
        {
          "output_type": "display_data",
          "data": {
            "text/plain": [
              "\n",
              "D-penicillmain not-randomised        placebo \n",
              "           158            106            154 \n"
            ]
          },
          "metadata": {
            "tags": []
          }
        }
      ]
    },
    {
      "cell_type": "code",
      "metadata": {
        "id": "p-PDRCmMy86K",
        "colab_type": "code",
        "colab": {
          "base_uri": "https://localhost:8080/",
          "height": 68
        },
        "outputId": "9aecea56-a36b-48ec-c872-fca8f12da5e4"
      },
      "source": [
        "%%R\n",
        "table(dat$newStatus)"
      ],
      "execution_count": 16,
      "outputs": [
        {
          "output_type": "display_data",
          "data": {
            "text/plain": [
              "\n",
              "  0   1 \n",
              "257 161 \n"
            ]
          },
          "metadata": {
            "tags": []
          }
        }
      ]
    },
    {
      "cell_type": "code",
      "metadata": {
        "id": "Oe4luHYky887",
        "colab_type": "code",
        "colab": {
          "base_uri": "https://localhost:8080/",
          "height": 497
        },
        "outputId": "43bc02ec-bde8-470f-c24d-49d5db5454b8"
      },
      "source": [
        "%%R\n",
        "## Kaplan Meyer Estimator\n",
        "dat <- mutate(dat, timeYears = time / 365.25)\n",
        "fit.KM <- survfit(Surv(timeYears, newStatus) ~ 1, data = dat, conf.type = \"log-log\")\n",
        "summary(fit.KM)\n",
        "plot(fit.KM,\n",
        "     main = \"Kaplan-Meier estimator\",\n",
        "     ylab = \"Survival probability\",\n",
        "     xlab = \"time (Years)\")"
      ],
      "execution_count": 17,
      "outputs": [
        {
          "output_type": "display_data",
          "data": {
            "image/png": "[encoded data removed]"
          },
          "metadata": {
            "tags": []
          }
        }
      ]
    },
    {
      "cell_type": "code",
      "metadata": {
        "id": "3vCXKYS0y8_w",
        "colab_type": "code",
        "colab": {
          "base_uri": "https://localhost:8080/",
          "height": 102
        },
        "outputId": "923a3e4b-63fc-4d7f-c152-ee58d7f28a2f"
      },
      "source": [
        "%%R\n",
        "## what is the median survival time\n",
        "fit.KM"
      ],
      "execution_count": 18,
      "outputs": [
        {
          "output_type": "display_data",
          "data": {
            "text/plain": [
              "Call: survfit(formula = Surv(timeYears, newStatus) ~ 1, data = dat, \n",
              "    conf.type = \"log-log\")\n",
              "\n",
              "      n  events  median 0.95LCL 0.95UCL \n",
              " 418.00  161.00    9.30    8.45   10.51 \n"
            ]
          },
          "metadata": {
            "tags": []
          }
        }
      ]
    },
    {
      "cell_type": "code",
      "metadata": {
        "id": "XnjNhxaby9Da",
        "colab_type": "code",
        "colab": {
          "base_uri": "https://localhost:8080/",
          "height": 170
        },
        "outputId": "be76f3af-967b-4f59-b87d-cbbbf1b4c474"
      },
      "source": [
        "%%R\n",
        "## comparing three groups D-penicillmain, placebo and not randomised\n",
        "## The log rank test\n",
        "fit.logrank <- survdiff(Surv(time, newStatus) ~ group, data = dat)\n",
        "fit.logrank"
      ],
      "execution_count": 19,
      "outputs": [
        {
          "output_type": "display_data",
          "data": {
            "text/plain": [
              "Call:\n",
              "survdiff(formula = Surv(time, newStatus) ~ group, data = dat)\n",
              "\n",
              "                       N Observed Expected (O-E)^2/E (O-E)^2/V\n",
              "group=D-penicillmain 158       65     64.0    0.0141    0.0235\n",
              "group=not-randomised 106       36     34.6    0.0573    0.0737\n",
              "group=placebo        154       60     62.4    0.0892    0.1461\n",
              "\n",
              " Chisq= 0.2  on 2 degrees of freedom, p= 0.9 \n"
            ]
          },
          "metadata": {
            "tags": []
          }
        }
      ]
    },
    {
      "cell_type": "code",
      "metadata": {
        "id": "4NQozrmjy8qt",
        "colab_type": "code",
        "colab": {
          "base_uri": "https://localhost:8080/",
          "height": 497
        },
        "outputId": "0007045c-b5f0-44c9-8374-b939cbd75a40"
      },
      "source": [
        "%%R\n",
        "## the p-value is not significant therefore we don't reject the null hypothesis. the groups are not different from each other. \n",
        "fit.KM <- survfit(Surv(timeYears, newStatus) ~ group, data = dat, conf.type = \"log-log\")\n",
        "fit.KM\n",
        "plot(fit.KM, col = 1:3)"
      ],
      "execution_count": 20,
      "outputs": [
        {
          "output_type": "display_data",
          "data": {
            "image/png": "[encoded data removed]"
          },
          "metadata": {
            "tags": []
          }
        }
      ]
    },
    {
      "cell_type": "code",
      "metadata": {
        "id": "W9-gB5qm0YYD",
        "colab_type": "code",
        "colab": {
          "base_uri": "https://localhost:8080/",
          "height": 187
        },
        "outputId": "e1f7e166-475d-4c58-e80d-52e7ff632614"
      },
      "source": [
        "%%R\n",
        "## Logrank test stratifying by sex\n",
        "survdiff(Surv(time, newStatus) ~ group + strata(sex), data = dat)"
      ],
      "execution_count": 21,
      "outputs": [
        {
          "output_type": "display_data",
          "data": {
            "text/plain": [
              "Call:\n",
              "survdiff(formula = Surv(time, newStatus) ~ group + strata(sex), \n",
              "    data = dat)\n",
              "\n",
              "                       N Observed Expected (O-E)^2/E (O-E)^2/V\n",
              "group=D-penicillmain 158       65     64.3   0.00869    0.0145\n",
              "group=not-randomised 106       36     34.5   0.06551    0.0846\n",
              "group=placebo        154       60     62.3   0.08135    0.1334\n",
              "\n",
              " Chisq= 0.2  on 2 degrees of freedom, p= 0.9 \n"
            ]
          },
          "metadata": {
            "tags": []
          }
        }
      ]
    },
    {
      "cell_type": "code",
      "metadata": {
        "id": "1ljPcct70Yb5",
        "colab_type": "code",
        "colab": {
          "base_uri": "https://localhost:8080/",
          "height": 187
        },
        "outputId": "280ee272-0a8b-49b8-c6e0-78c578cdb068"
      },
      "source": [
        "%%R\n",
        "## Logrank test stratifying by holistic stage of disease\n",
        "survdiff(Surv(time, newStatus) ~ group + strata(stage), data = dat)"
      ],
      "execution_count": 22,
      "outputs": [
        {
          "output_type": "display_data",
          "data": {
            "text/plain": [
              "Call:\n",
              "survdiff(formula = Surv(time, newStatus) ~ group + strata(stage), \n",
              "    data = dat)\n",
              "\n",
              "                       N Observed Expected (O-E)^2/E (O-E)^2/V\n",
              "group=D-penicillmain 158       65     63.6     0.029    0.0489\n",
              "group=not-randomised 106       36     33.2     0.239    0.3121\n",
              "group=placebo        154       60     64.2     0.271    0.4645\n",
              "\n",
              " Chisq= 0.6  on 2 degrees of freedom, p= 0.8 \n"
            ]
          },
          "metadata": {
            "tags": []
          }
        }
      ]
    },
    {
      "cell_type": "code",
      "metadata": {
        "id": "MJQm8sIG0YhH",
        "colab_type": "code",
        "colab": {
          "base_uri": "https://localhost:8080/",
          "height": 187
        },
        "outputId": "7cc587d5-63a4-42e8-c37b-d6690fe1ad84"
      },
      "source": [
        "%%R\n",
        "## Logrank test startifying by edema\n",
        "survdiff(Surv(time, newStatus) ~ group + strata(edema), data = dat)"
      ],
      "execution_count": 23,
      "outputs": [
        {
          "output_type": "display_data",
          "data": {
            "text/plain": [
              "Call:\n",
              "survdiff(formula = Surv(time, newStatus) ~ group + strata(edema), \n",
              "    data = dat)\n",
              "\n",
              "                       N Observed Expected (O-E)^2/E (O-E)^2/V\n",
              "group=D-penicillmain 158       65     65.2  0.000717   0.00123\n",
              "group=not-randomised 106       36     32.0  0.488430   0.64327\n",
              "group=placebo        154       60     63.7  0.219444   0.38151\n",
              "\n",
              " Chisq= 0.8  on 2 degrees of freedom, p= 0.7 \n"
            ]
          },
          "metadata": {
            "tags": []
          }
        }
      ]
    },
    {
      "cell_type": "code",
      "metadata": {
        "id": "7iyIifZZ0YlN",
        "colab_type": "code",
        "colab": {
          "base_uri": "https://localhost:8080/",
          "height": 187
        },
        "outputId": "2843da9f-7d21-4e08-d32c-27ecf37a9165"
      },
      "source": [
        "%%R\n",
        "## Logrank test sytratifying by hepato\n",
        "survdiff(Surv(time, newStatus) ~ group + strata(hepato), data = dat)"
      ],
      "execution_count": 24,
      "outputs": [
        {
          "output_type": "display_data",
          "data": {
            "text/plain": [
              "Call:\n",
              "survdiff(formula = Surv(time, newStatus) ~ group + strata(hepato), \n",
              "    data = dat)\n",
              "\n",
              "                       N Observed Expected (O-E)^2/E (O-E)^2/V\n",
              "group=D-penicillmain 158       65     55.5     1.629     2.599\n",
              "group=not-randomised 106       36     48.2     3.069     5.043\n",
              "group=placebo        154       60     57.4     0.122     0.195\n",
              "\n",
              " Chisq= 5.5  on 2 degrees of freedom, p= 0.06 \n"
            ]
          },
          "metadata": {
            "tags": []
          }
        }
      ]
    },
    {
      "cell_type": "code",
      "metadata": {
        "id": "2pSjcgJF0Yn8",
        "colab_type": "code",
        "colab": {
          "base_uri": "https://localhost:8080/",
          "height": 323
        },
        "outputId": "c2ff7dba-c41b-489d-93e3-94369044ab1a"
      },
      "source": [
        "%%R\n",
        "## cox regression ==> exp(beta) refers to unit increase of the regressor. exp(beta) is the hazard ratio . \n",
        "#From exp(coef) the not-randomised group has a higher risk, therefore shorter life span. placebo has a lower risk hence longer life span. \n",
        "#From both p-values it's clear that the 3 sets of groups are not statistically different from each other. \n",
        "fit.cph <- coxph(Surv(time, newStatus) ~ group, data = dat)\n",
        "summary(fit.cph)"
      ],
      "execution_count": 25,
      "outputs": [
        {
          "output_type": "display_data",
          "data": {
            "text/plain": [
              "Call:\n",
              "coxph(formula = Surv(time, newStatus) ~ group, data = dat)\n",
              "\n",
              "  n= 418, number of events= 161 \n",
              "\n",
              "                        coef exp(coef) se(coef)      z Pr(>|z|)\n",
              "groupnot-randomised  0.02560   1.02593  0.20851  0.123    0.902\n",
              "groupplacebo        -0.05349   0.94792  0.17913 -0.299    0.765\n",
              "\n",
              "                    exp(coef) exp(-coef) lower .95 upper .95\n",
              "groupnot-randomised    1.0259     0.9747    0.6818     1.544\n",
              "groupplacebo           0.9479     1.0549    0.6673     1.347\n",
              "\n",
              "Concordance= 0.512  (se = 0.024 )\n",
              "Likelihood ratio test= 0.16  on 2 df,   p=0.9\n",
              "Wald test            = 0.16  on 2 df,   p=0.9\n",
              "Score (logrank) test = 0.16  on 2 df,   p=0.9\n",
              "\n"
            ]
          },
          "metadata": {
            "tags": []
          }
        }
      ]
    },
    {
      "cell_type": "code",
      "metadata": {
        "id": "NULa12Oo0YrB",
        "colab_type": "code",
        "colab": {
          "base_uri": "https://localhost:8080/",
          "height": 323
        },
        "outputId": "ef784b2f-5dd2-49bd-df98-2c48da24a1ab"
      },
      "source": [
        "%%R\n",
        "## running cox regression on a continuous covariate. From the p-value it is clear that age is a statistically significatnt covariate in how the patients respond to the various treatment methods. \n",
        "#The HR is 1.04 which implies that as a patient grows older by 1 year the risk of death increases by 4 percent. the scale of the covariate is age in years. \n",
        "#+ve coeffient ==> beta the higher the age the higher the risk of dying\n",
        "fit.cph1 <- coxph(Surv(time, newStatus) ~ age, data = dat)\n",
        "summary(fit.cph1)"
      ],
      "execution_count": 26,
      "outputs": [
        {
          "output_type": "display_data",
          "data": {
            "text/plain": [
              "Call:\n",
              "coxph(formula = Surv(time, newStatus) ~ age, data = dat)\n",
              "\n",
              "  n= 418, number of events= 161 \n",
              "\n",
              "        coef exp(coef) se(coef)     z Pr(>|z|)    \n",
              "age 0.039185  1.039963 0.007847 4.994 5.92e-07 ***\n",
              "---\n",
              "Signif. codes:  0 ‘***’ 0.001 ‘**’ 0.01 ‘*’ 0.05 ‘.’ 0.1 ‘ ’ 1\n",
              "\n",
              "    exp(coef) exp(-coef) lower .95 upper .95\n",
              "age      1.04     0.9616     1.024     1.056\n",
              "\n",
              "Concordance= 0.616  (se = 0.023 )\n",
              "Likelihood ratio test= 25.19  on 1 df,   p=5e-07\n",
              "Wald test            = 24.94  on 1 df,   p=6e-07\n",
              "Score (logrank) test = 25.3  on 1 df,   p=5e-07\n",
              "\n"
            ]
          },
          "metadata": {
            "tags": []
          }
        }
      ]
    },
    {
      "cell_type": "code",
      "metadata": {
        "id": "Di2e0rZX0Y-A",
        "colab_type": "code",
        "colab": {}
      },
      "source": [
        "%%R\n",
        "## Automatic model selection based on AIC\n",
        "Mfull <- coxph(Surv(timeYears, newStatus) ~ age + sex + ascites + hepato + spiders + stage +\n",
        "                 albumin + group + copper + alk.phos + ast + trig + platelet + bili + chol + \n",
        "                 edema + protime, data = dat)"
      ],
      "execution_count": 0,
      "outputs": []
    },
    {
      "cell_type": "code",
      "metadata": {
        "id": "6LUpGsUj0ZAp",
        "colab_type": "code",
        "colab": {
          "base_uri": "https://localhost:8080/",
          "height": 1000
        },
        "outputId": "27b54d32-c767-4f2f-ba2e-9425f9fd0133"
      },
      "source": [
        "%%R\n",
        "MAIC <- step(Mfull)"
      ],
      "execution_count": 28,
      "outputs": [
        {
          "output_type": "display_data",
          "data": {
            "text/plain": [
              "Start:  AIC=1561.21\n",
              "Surv(timeYears, newStatus) ~ age + sex + ascites + hepato + spiders + \n",
              "    stage + albumin + group + copper + alk.phos + ast + trig + \n",
              "    platelet + bili + chol + edema + protime\n",
              "\n",
              "           Df    AIC\n",
              "- group     2 1557.5\n",
              "- spiders   1 1559.2\n",
              "- platelet  1 1559.2\n",
              "- alk.phos  1 1559.2\n",
              "- chol      1 1559.7\n",
              "- sex       1 1559.7\n",
              "- ascites   1 1560.1\n",
              "- hepato    1 1560.2\n",
              "<none>        1561.2\n",
              "- trig      1 1561.2\n",
              "- copper    1 1562.9\n",
              "- ast       1 1563.1\n",
              "- edema     1 1564.8\n",
              "- protime   1 1565.0\n",
              "- albumin   1 1566.6\n",
              "- age       1 1570.2\n",
              "- stage     1 1570.9\n",
              "- bili      1 1585.6\n",
              "\n",
              "Step:  AIC=1557.49\n",
              "Surv(timeYears, newStatus) ~ age + sex + ascites + hepato + spiders + \n",
              "    stage + albumin + copper + alk.phos + ast + trig + platelet + \n",
              "    bili + chol + edema + protime\n",
              "\n",
              "           Df    AIC\n",
              "- spiders   1 1555.5\n",
              "- platelet  1 1555.5\n",
              "- alk.phos  1 1555.5\n",
              "- sex       1 1555.9\n",
              "- chol      1 1556.0\n",
              "- ascites   1 1556.3\n",
              "- hepato    1 1557.0\n",
              "- trig      1 1557.3\n",
              "<none>        1557.5\n",
              "- ast       1 1559.3\n",
              "- copper    1 1559.3\n",
              "- edema     1 1561.0\n",
              "- protime   1 1561.4\n",
              "- albumin   1 1563.3\n",
              "- stage     1 1567.1\n",
              "- age       1 1567.7\n",
              "- bili      1 1581.6\n",
              "\n",
              "Step:  AIC=1555.49\n",
              "Surv(timeYears, newStatus) ~ age + sex + ascites + hepato + stage + \n",
              "    albumin + copper + alk.phos + ast + trig + platelet + bili + \n",
              "    chol + edema + protime\n",
              "\n",
              "           Df    AIC\n",
              "- platelet  1 1553.5\n",
              "- alk.phos  1 1553.5\n",
              "- sex       1 1553.9\n",
              "- chol      1 1554.0\n",
              "- ascites   1 1554.3\n",
              "- hepato    1 1555.0\n",
              "- trig      1 1555.3\n",
              "<none>        1555.5\n",
              "- ast       1 1557.3\n",
              "- copper    1 1557.5\n",
              "- edema     1 1559.0\n",
              "- protime   1 1559.5\n",
              "- albumin   1 1561.3\n",
              "- age       1 1565.8\n",
              "- stage     1 1566.0\n",
              "- bili      1 1580.3\n",
              "\n",
              "Step:  AIC=1553.5\n",
              "Surv(timeYears, newStatus) ~ age + sex + ascites + hepato + stage + \n",
              "    albumin + copper + alk.phos + ast + trig + bili + chol + \n",
              "    edema + protime\n",
              "\n",
              "           Df    AIC\n",
              "- alk.phos  1 1551.5\n",
              "- sex       1 1551.9\n",
              "- chol      1 1552.0\n",
              "- ascites   1 1552.3\n",
              "- hepato    1 1553.0\n",
              "- trig      1 1553.3\n",
              "<none>        1553.5\n",
              "- ast       1 1555.5\n",
              "- copper    1 1555.5\n",
              "- edema     1 1557.1\n",
              "- protime   1 1557.5\n",
              "- albumin   1 1559.3\n",
              "- age       1 1563.9\n",
              "- stage     1 1564.0\n",
              "- bili      1 1578.4\n",
              "\n",
              "Step:  AIC=1551.54\n",
              "Surv(timeYears, newStatus) ~ age + sex + ascites + hepato + stage + \n",
              "    albumin + copper + ast + trig + bili + chol + edema + protime\n",
              "\n",
              "          Df    AIC\n",
              "- sex      1 1550.0\n",
              "- chol     1 1550.1\n",
              "- ascites  1 1550.5\n",
              "- hepato   1 1551.1\n",
              "- trig     1 1551.4\n",
              "<none>       1551.5\n",
              "- ast      1 1553.5\n",
              "- copper   1 1553.7\n",
              "- edema    1 1555.1\n",
              "- protime  1 1555.6\n",
              "- albumin  1 1557.3\n",
              "- stage    1 1562.1\n",
              "- age      1 1562.2\n",
              "- bili     1 1576.4\n",
              "\n",
              "Step:  AIC=1549.97\n",
              "Surv(timeYears, newStatus) ~ age + ascites + hepato + stage + \n",
              "    albumin + copper + ast + trig + bili + chol + edema + protime\n",
              "\n",
              "          Df    AIC\n",
              "- chol     1 1548.5\n",
              "- ascites  1 1549.1\n",
              "- hepato   1 1549.5\n",
              "- trig     1 1549.9\n",
              "<none>       1550.0\n",
              "- ast      1 1552.1\n",
              "- copper   1 1553.2\n",
              "- edema    1 1553.2\n",
              "- protime  1 1554.0\n",
              "- albumin  1 1555.5\n",
              "- stage    1 1560.4\n",
              "- age      1 1562.6\n",
              "- bili     1 1574.4\n",
              "\n",
              "Step:  AIC=1548.49\n",
              "Surv(timeYears, newStatus) ~ age + ascites + hepato + stage + \n",
              "    albumin + copper + ast + trig + bili + edema + protime\n",
              "\n",
              "          Df    AIC\n",
              "- ascites  1 1547.5\n",
              "- hepato   1 1548.0\n",
              "- trig     1 1548.2\n",
              "<none>       1548.5\n",
              "- edema    1 1551.4\n",
              "- ast      1 1551.4\n",
              "- copper   1 1551.5\n",
              "- protime  1 1552.4\n",
              "- albumin  1 1554.2\n",
              "- stage    1 1558.8\n",
              "- age      1 1560.7\n",
              "- bili     1 1576.5\n",
              "\n",
              "Step:  AIC=1547.51\n",
              "Surv(timeYears, newStatus) ~ age + hepato + stage + albumin + \n",
              "    copper + ast + trig + bili + edema + protime\n",
              "\n",
              "          Df    AIC\n",
              "- trig     1 1546.5\n",
              "- hepato   1 1546.8\n",
              "<none>       1547.5\n",
              "- ast      1 1550.1\n",
              "- edema    1 1551.1\n",
              "- protime  1 1551.9\n",
              "- copper   1 1552.3\n",
              "- albumin  1 1555.1\n",
              "- stage    1 1558.5\n",
              "- age      1 1561.2\n",
              "- bili     1 1576.0\n",
              "\n",
              "Step:  AIC=1546.55\n",
              "Surv(timeYears, newStatus) ~ age + hepato + stage + albumin + \n",
              "    copper + ast + bili + edema + protime\n",
              "\n",
              "          Df    AIC\n",
              "- hepato   1 1545.9\n",
              "<none>       1546.5\n",
              "- ast      1 1549.7\n",
              "- edema    1 1550.7\n",
              "- copper   1 1550.8\n",
              "- protime  1 1551.1\n",
              "- albumin  1 1553.7\n",
              "- stage    1 1556.9\n",
              "- age      1 1560.9\n",
              "- bili     1 1575.5\n",
              "\n",
              "Step:  AIC=1545.91\n",
              "Surv(timeYears, newStatus) ~ age + stage + albumin + copper + \n",
              "    ast + bili + edema + protime\n",
              "\n",
              "          Df    AIC\n",
              "<none>       1545.9\n",
              "- ast      1 1549.0\n",
              "- edema    1 1549.7\n",
              "- copper   1 1550.5\n",
              "- protime  1 1551.0\n",
              "- albumin  1 1554.1\n",
              "- stage    1 1559.4\n",
              "- age      1 1560.1\n",
              "- bili     1 1576.0\n"
            ]
          },
          "metadata": {
            "tags": []
          }
        }
      ]
    }
  ]
}