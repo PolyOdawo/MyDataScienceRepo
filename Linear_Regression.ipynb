{
  "nbformat": 4,
  "nbformat_minor": 0,
  "metadata": {
    "colab": {
      "name": "Linear Regression",
      "provenance": [],
      "include_colab_link": true
    },
    "kernelspec": {
      "name": "python3",
      "display_name": "Python 3"
    },
    "accelerator": "TPU"
  },
  "cells": [
    {
      "cell_type": "markdown",
      "metadata": {
        "id": "view-in-github",
        "colab_type": "text"
      },
      "source": [
        "<a href=\"https://colab.research.google.com/github/PolyOdawo/MyDataScienceRepo/blob/master/Linear_Regression.ipynb\" target=\"_parent\"><img src=\"https://colab.research.google.com/assets/colab-badge.svg\" alt=\"Open In Colab\"/></a>"
      ]
    },
    {
      "cell_type": "code",
      "metadata": {
        "id": "mIkLJ9WbEYf4",
        "colab_type": "code",
        "colab": {}
      },
      "source": [
        "import torch\n",
        "from torch.nn import Linear\n",
        "import torch.nn as nn\n",
        "import numpy as np\n",
        "import matplotlib.pyplot as plt"
      ],
      "execution_count": 0,
      "outputs": []
    },
    {
      "cell_type": "code",
      "metadata": {
        "id": "ztKkpJ7eEEvW",
        "colab_type": "code",
        "colab": {}
      },
      "source": [
        "#liner Regression\n",
        "a = torch.tensor(2.0, requires_grad=True)\n",
        "b = torch.tensor(7.0, requires_grad=True)\n",
        "\n",
        "def forward(x):\n",
        "  y = a*x + b\n",
        "  return y"
      ],
      "execution_count": 0,
      "outputs": []
    },
    {
      "cell_type": "code",
      "metadata": {
        "id": "DZc-URPCEYcm",
        "colab_type": "code",
        "outputId": "4610458b-4f29-451d-bde1-8510e1b4ba6b",
        "colab": {
          "base_uri": "https://localhost:8080/",
          "height": 51
        }
      },
      "source": [
        "x= torch.tensor([[2.0], [4.0]])\n",
        "forward(x)"
      ],
      "execution_count": 0,
      "outputs": [
        {
          "output_type": "execute_result",
          "data": {
            "text/plain": [
              "tensor([[11.],\n",
              "        [15.]], grad_fn=<AddBackward0>)"
            ]
          },
          "metadata": {
            "tags": []
          },
          "execution_count": 3
        }
      ]
    },
    {
      "cell_type": "code",
      "metadata": {
        "id": "Vo0Hgg3kEYjZ",
        "colab_type": "code",
        "colab": {}
      },
      "source": [
        "#linear regression using the linear class"
      ],
      "execution_count": 0,
      "outputs": []
    },
    {
      "cell_type": "code",
      "metadata": {
        "id": "AAyKAOoKFHRH",
        "colab_type": "code",
        "outputId": "6b2e0a16-2a09-466c-99b1-6313c0bef4b5",
        "colab": {
          "base_uri": "https://localhost:8080/",
          "height": 68
        }
      },
      "source": [
        "torch.manual_seed(1)\n",
        "model = Linear(in_features=1, out_features=1)\n",
        "[w, b] = model.parameters()\n",
        "print(w, b)"
      ],
      "execution_count": 0,
      "outputs": [
        {
          "output_type": "stream",
          "text": [
            "Parameter containing:\n",
            "tensor([[0.5153]], requires_grad=True) Parameter containing:\n",
            "tensor([-0.4414], requires_grad=True)\n"
          ],
          "name": "stdout"
        }
      ]
    },
    {
      "cell_type": "code",
      "metadata": {
        "id": "JY-kIvQYFHYP",
        "colab_type": "code",
        "outputId": "373c6221-1621-4f03-f63f-67e4305a25e1",
        "colab": {
          "base_uri": "https://localhost:8080/",
          "height": 51
        }
      },
      "source": [
        "x1 = torch.tensor([[3.0], [6.0]])\n",
        "print(model(x1))"
      ],
      "execution_count": 0,
      "outputs": [
        {
          "output_type": "stream",
          "text": [
            "tensor([[1.1044],\n",
            "        [2.6502]], grad_fn=<AddmmBackward>)\n"
          ],
          "name": "stdout"
        }
      ]
    },
    {
      "cell_type": "code",
      "metadata": {
        "id": "xqevk5l5FHcv",
        "colab_type": "code",
        "colab": {}
      },
      "source": [
        "#custom linear regression"
      ],
      "execution_count": 0,
      "outputs": []
    },
    {
      "cell_type": "code",
      "metadata": {
        "id": "32kHsfYmGMF8",
        "colab_type": "code",
        "colab": {}
      },
      "source": [
        "class LR(nn.Module):\n",
        "  def __init__(self, input_size, output_size):\n",
        "    super().__init__()\n",
        "    self.linear = nn.Linear(input_size, output_size)\n",
        "  def forward(self, x):\n",
        "    pred = self.linear(x)\n",
        "    return pred"
      ],
      "execution_count": 0,
      "outputs": []
    },
    {
      "cell_type": "code",
      "metadata": {
        "id": "DWEzEBklGMPd",
        "colab_type": "code",
        "outputId": "afbfe409-e6d0-4397-90f6-16e9dfbb0f12",
        "colab": {
          "base_uri": "https://localhost:8080/",
          "height": 51
        }
      },
      "source": [
        "torch.manual_seed(1)\n",
        "model1 = LR(1, 1)\n",
        "print(model1.forward(torch.tensor([[1.0], [2.0]])))"
      ],
      "execution_count": 0,
      "outputs": [
        {
          "output_type": "stream",
          "text": [
            "tensor([[0.0739],\n",
            "        [0.5891]], grad_fn=<AddmmBackward>)\n"
          ],
          "name": "stdout"
        }
      ]
    },
    {
      "cell_type": "code",
      "metadata": {
        "id": "BQiU-f1sHHJw",
        "colab_type": "code",
        "outputId": "a780f161-d5dc-46ec-e135-377468b44123",
        "colab": {
          "base_uri": "https://localhost:8080/",
          "height": 34
        }
      },
      "source": [
        "[w1, b1] = model1.parameters()\n",
        "def get_params():\n",
        "  return w1[0][0].item(), b1[0].item() \n",
        "print(get_params())"
      ],
      "execution_count": 0,
      "outputs": [
        {
          "output_type": "stream",
          "text": [
            "(0.5152631998062134, -0.44137823581695557)\n"
          ],
          "name": "stdout"
        }
      ]
    },
    {
      "cell_type": "code",
      "metadata": {
        "id": "0Y5991qbKsNf",
        "colab_type": "code",
        "outputId": "d60bae35-b590-4277-c832-285239dc0b19",
        "colab": {
          "base_uri": "https://localhost:8080/",
          "height": 282
        }
      },
      "source": [
        "#creating a dataset\n",
        "x2 = torch.randn(100, 1)*10\n",
        "y2 = x2 + 3*torch.randn(100, 1)\n",
        "plt.plot(x2.numpy(), y2.numpy(), 'o')"
      ],
      "execution_count": 0,
      "outputs": [
        {
          "output_type": "execute_result",
          "data": {
            "text/plain": [
              "[<matplotlib.lines.Line2D at 0x7f9f8612afd0>]"
            ]
          },
          "metadata": {
            "tags": []
          },
          "execution_count": 11
        },
        {
          "output_type": "display_data",
          "data": {
            "image/png": "[encoded data removed]",
            "text/plain": [
              "<Figure size 432x288 with 1 Axes>"
            ]
          },
          "metadata": {
            "tags": []
          }
        }
      ]
    },
    {
      "cell_type": "code",
      "metadata": {
        "id": "1b0D0QuGKsUv",
        "colab_type": "code",
        "colab": {}
      },
      "source": [
        "def plot_fit(title):\n",
        "  w, b = get_params()\n",
        "  x = np.array([-30, 30])\n",
        "  y = w*x + b\n",
        "  plt.plot(x, y, 'r')\n",
        "  plt.scatter(x2, y2)\n",
        "  plt.title = title\n",
        "  plt.show()"
      ],
      "execution_count": 0,
      "outputs": []
    },
    {
      "cell_type": "code",
      "metadata": {
        "id": "JHtu1JHIKnM2",
        "colab_type": "code",
        "outputId": "5c151195-ec8f-47cf-e789-0e2abaafc090",
        "colab": {
          "base_uri": "https://localhost:8080/",
          "height": 265
        }
      },
      "source": [
        "plot_fit('Initial Model')"
      ],
      "execution_count": 0,
      "outputs": [
        {
          "output_type": "display_data",
          "data": {
            "image/png": "[encoded data removed]",
            "text/plain": [
              "<Figure size 432x288 with 1 Axes>"
            ]
          },
          "metadata": {
            "tags": []
          }
        }
      ]
    },
    {
      "cell_type": "code",
      "metadata": {
        "id": "T2keAhKOkE0w",
        "colab_type": "code",
        "colab": {}
      },
      "source": [
        "criterion = nn.MSELoss()\n",
        "optimizer = torch.optim.SGD(model1.parameters(), lr = 0.001)"
      ],
      "execution_count": 0,
      "outputs": []
    },
    {
      "cell_type": "code",
      "metadata": {
        "id": "vAAh6BiakFG2",
        "colab_type": "code",
        "outputId": "4df83a05-da92-4521-d6e0-6e24ed77af03",
        "colab": {
          "base_uri": "https://localhost:8080/",
          "height": 1000
        }
      },
      "source": [
        "epochs = 100\n",
        "losses = []\n",
        "for i in range(epochs):\n",
        "  y_pred = model1.forward(x2)\n",
        "  loss = criterion(y_pred, y2)\n",
        "  print(\"epoch:\", i, \"loss:\", loss.item())\n",
        "\n",
        "  losses.append(loss)\n",
        "  optimizer.zero_grad()\n",
        "  loss.backward()\n",
        "  optimizer.step()"
      ],
      "execution_count": 0,
      "outputs": [
        {
          "output_type": "stream",
          "text": [
            "epoch: 0 loss: 36.44832992553711\n",
            "epoch: 1 loss: 25.84706687927246\n",
            "epoch: 2 loss: 19.274919509887695\n",
            "epoch: 3 loss: 15.200485229492188\n",
            "epoch: 4 loss: 12.674422264099121\n",
            "epoch: 5 loss: 11.10822868347168\n",
            "epoch: 6 loss: 10.137072563171387\n",
            "epoch: 7 loss: 9.534791946411133\n",
            "epoch: 8 loss: 9.161184310913086\n",
            "epoch: 9 loss: 8.92933464050293\n",
            "epoch: 10 loss: 8.785365104675293\n",
            "epoch: 11 loss: 8.69587516784668\n",
            "epoch: 12 loss: 8.640158653259277\n",
            "epoch: 13 loss: 8.605380058288574\n",
            "epoch: 14 loss: 8.58358097076416\n",
            "epoch: 15 loss: 8.569830894470215\n",
            "epoch: 16 loss: 8.56106948852539\n",
            "epoch: 17 loss: 8.555403709411621\n",
            "epoch: 18 loss: 8.551656723022461\n",
            "epoch: 19 loss: 8.549099922180176\n",
            "epoch: 20 loss: 8.547282218933105\n",
            "epoch: 21 loss: 8.545924186706543\n",
            "epoch: 22 loss: 8.54485034942627\n",
            "epoch: 23 loss: 8.543954849243164\n",
            "epoch: 24 loss: 8.543170928955078\n",
            "epoch: 25 loss: 8.54245662689209\n",
            "epoch: 26 loss: 8.541786193847656\n",
            "epoch: 27 loss: 8.541145324707031\n",
            "epoch: 28 loss: 8.540521621704102\n",
            "epoch: 29 loss: 8.539910316467285\n",
            "epoch: 30 loss: 8.539307594299316\n",
            "epoch: 31 loss: 8.538711547851562\n",
            "epoch: 32 loss: 8.538119316101074\n",
            "epoch: 33 loss: 8.537531852722168\n",
            "epoch: 34 loss: 8.536946296691895\n",
            "epoch: 35 loss: 8.536364555358887\n",
            "epoch: 36 loss: 8.535784721374512\n",
            "epoch: 37 loss: 8.535207748413086\n",
            "epoch: 38 loss: 8.53463363647461\n",
            "epoch: 39 loss: 8.534061431884766\n",
            "epoch: 40 loss: 8.533491134643555\n",
            "epoch: 41 loss: 8.532923698425293\n",
            "epoch: 42 loss: 8.53235912322998\n",
            "epoch: 43 loss: 8.5317964553833\n",
            "epoch: 44 loss: 8.531234741210938\n",
            "epoch: 45 loss: 8.530675888061523\n",
            "epoch: 46 loss: 8.530119895935059\n",
            "epoch: 47 loss: 8.52956485748291\n",
            "epoch: 48 loss: 8.529012680053711\n",
            "epoch: 49 loss: 8.528463363647461\n",
            "epoch: 50 loss: 8.527915000915527\n",
            "epoch: 51 loss: 8.527369499206543\n",
            "epoch: 52 loss: 8.526825904846191\n",
            "epoch: 53 loss: 8.526284217834473\n",
            "epoch: 54 loss: 8.525745391845703\n",
            "epoch: 55 loss: 8.525208473205566\n",
            "epoch: 56 loss: 8.524673461914062\n",
            "epoch: 57 loss: 8.524140357971191\n",
            "epoch: 58 loss: 8.523609161376953\n",
            "epoch: 59 loss: 8.523079872131348\n",
            "epoch: 60 loss: 8.522554397583008\n",
            "epoch: 61 loss: 8.522028923034668\n",
            "epoch: 62 loss: 8.521506309509277\n",
            "epoch: 63 loss: 8.52098560333252\n",
            "epoch: 64 loss: 8.520467758178711\n",
            "epoch: 65 loss: 8.519950866699219\n",
            "epoch: 66 loss: 8.51943588256836\n",
            "epoch: 67 loss: 8.51892375946045\n",
            "epoch: 68 loss: 8.518413543701172\n",
            "epoch: 69 loss: 8.517905235290527\n",
            "epoch: 70 loss: 8.517398834228516\n",
            "epoch: 71 loss: 8.516894340515137\n",
            "epoch: 72 loss: 8.51639175415039\n",
            "epoch: 73 loss: 8.515891075134277\n",
            "epoch: 74 loss: 8.515392303466797\n",
            "epoch: 75 loss: 8.514896392822266\n",
            "epoch: 76 loss: 8.51440143585205\n",
            "epoch: 77 loss: 8.513909339904785\n",
            "epoch: 78 loss: 8.513418197631836\n",
            "epoch: 79 loss: 8.51292896270752\n",
            "epoch: 80 loss: 8.512441635131836\n",
            "epoch: 81 loss: 8.511957168579102\n",
            "epoch: 82 loss: 8.511474609375\n",
            "epoch: 83 loss: 8.510993003845215\n",
            "epoch: 84 loss: 8.510513305664062\n",
            "epoch: 85 loss: 8.510035514831543\n",
            "epoch: 86 loss: 8.509560585021973\n",
            "epoch: 87 loss: 8.509086608886719\n",
            "epoch: 88 loss: 8.508614540100098\n",
            "epoch: 89 loss: 8.508145332336426\n",
            "epoch: 90 loss: 8.50767707824707\n",
            "epoch: 91 loss: 8.507209777832031\n",
            "epoch: 92 loss: 8.506745338439941\n",
            "epoch: 93 loss: 8.5062837600708\n",
            "epoch: 94 loss: 8.50582218170166\n",
            "epoch: 95 loss: 8.505363464355469\n",
            "epoch: 96 loss: 8.504905700683594\n",
            "epoch: 97 loss: 8.504449844360352\n",
            "epoch: 98 loss: 8.503996849060059\n",
            "epoch: 99 loss: 8.503544807434082\n"
          ],
          "name": "stdout"
        }
      ]
    },
    {
      "cell_type": "code",
      "metadata": {
        "id": "YRbYfNJckFXu",
        "colab_type": "code",
        "outputId": "46b6b4d0-84b3-4678-e321-fb7a0843fcb0",
        "colab": {
          "base_uri": "https://localhost:8080/",
          "height": 282
        }
      },
      "source": [
        "plt.plot(range(epochs), losses)"
      ],
      "execution_count": 0,
      "outputs": [
        {
          "output_type": "execute_result",
          "data": {
            "text/plain": [
              "[<matplotlib.lines.Line2D at 0x7f9f823764a8>]"
            ]
          },
          "metadata": {
            "tags": []
          },
          "execution_count": 16
        },
        {
          "output_type": "display_data",
          "data": {
            "image/png": "[encoded data removed]",
            "text/plain": [
              "<Figure size 432x288 with 1 Axes>"
            ]
          },
          "metadata": {
            "tags": []
          }
        }
      ]
    },
    {
      "cell_type": "code",
      "metadata": {
        "id": "ejgJVj7skFgm",
        "colab_type": "code",
        "outputId": "875e9baf-0b87-4e5b-81b5-9dcf641ce988",
        "colab": {
          "base_uri": "https://localhost:8080/",
          "height": 265
        }
      },
      "source": [
        "plot_fit(\"Trained Model\")"
      ],
      "execution_count": 0,
      "outputs": [
        {
          "output_type": "display_data",
          "data": {
            "image/png": "[encoded data removed]",
            "text/plain": [
              "<Figure size 432x288 with 1 Axes>"
            ]
          },
          "metadata": {
            "tags": []
          }
        }
      ]
    },
    {
      "cell_type": "code",
      "metadata": {
        "id": "8IKk5YzEF3fk",
        "colab_type": "code",
        "outputId": "c687f0c5-2c70-4f9c-df9d-7f2b7f1cd536",
        "colab": {
          "base_uri": "https://localhost:8080/",
          "height": 34
        }
      },
      "source": [
        "print(get_params())"
      ],
      "execution_count": 0,
      "outputs": [
        {
          "output_type": "stream",
          "text": [
            "(1.0283775329589844, -0.3742034137248993)\n"
          ],
          "name": "stdout"
        }
      ]
    }
  ]
}