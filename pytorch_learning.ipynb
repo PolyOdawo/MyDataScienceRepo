{
  "nbformat": 4,
  "nbformat_minor": 0,
  "metadata": {
    "colab": {
      "name": "pytorch_learning.ipynb",
      "provenance": [],
      "include_colab_link": true
    },
    "kernelspec": {
      "name": "python3",
      "display_name": "Python 3"
    },
    "accelerator": "GPU"
  },
  "cells": [
    {
      "cell_type": "markdown",
      "metadata": {
        "id": "view-in-github",
        "colab_type": "text"
      },
      "source": [
        "<a href=\"https://colab.research.google.com/github/PolyOdawo/MyDataScienceRepo/blob/master/pytorch_learning.ipynb\" target=\"_parent\"><img src=\"https://colab.research.google.com/assets/colab-badge.svg\" alt=\"Open In Colab\"/></a>"
      ]
    },
    {
      "cell_type": "code",
      "metadata": {
        "id": "0vCLQh3f_76j",
        "colab_type": "code",
        "outputId": "053b43ec-5f81-4781-a216-33c7313ede5a",
        "colab": {
          "base_uri": "https://localhost:8080/",
          "height": 340
        }
      },
      "source": [
        "!pip3 install torch==1.3.1+cpu torchvision==0.4.2+cpu -f https://download.pytorch.org/whl/torch_stable.html"
      ],
      "execution_count": 0,
      "outputs": [
        {
          "output_type": "stream",
          "text": [
            "Looking in links: https://download.pytorch.org/whl/torch_stable.html\n",
            "Collecting torch==1.3.1+cpu\n",
            "\u001b[?25l  Downloading https://download.pytorch.org/whl/cpu/torch-1.3.1%2Bcpu-cp36-cp36m-linux_x86_64.whl (111.8MB)\n",
            "\u001b[K     |████████████████████████████████| 111.8MB 36kB/s \n",
            "\u001b[?25hCollecting torchvision==0.4.2+cpu\n",
            "\u001b[?25l  Downloading https://download.pytorch.org/whl/cpu/torchvision-0.4.2%2Bcpu-cp36-cp36m-linux_x86_64.whl (13.5MB)\n",
            "\u001b[K     |████████████████████████████████| 13.5MB 247kB/s \n",
            "\u001b[?25hRequirement already satisfied: numpy in /usr/local/lib/python3.6/dist-packages (from torch==1.3.1+cpu) (1.17.4)\n",
            "Requirement already satisfied: pillow>=4.1.1 in /usr/local/lib/python3.6/dist-packages (from torchvision==0.4.2+cpu) (4.3.0)\n",
            "Requirement already satisfied: six in /usr/local/lib/python3.6/dist-packages (from torchvision==0.4.2+cpu) (1.12.0)\n",
            "Requirement already satisfied: olefile in /usr/local/lib/python3.6/dist-packages (from pillow>=4.1.1->torchvision==0.4.2+cpu) (0.46)\n",
            "Installing collected packages: torch, torchvision\n",
            "  Found existing installation: torch 1.3.1\n",
            "    Uninstalling torch-1.3.1:\n",
            "      Successfully uninstalled torch-1.3.1\n",
            "  Found existing installation: torchvision 0.4.2\n",
            "    Uninstalling torchvision-0.4.2:\n",
            "      Successfully uninstalled torchvision-0.4.2\n",
            "Successfully installed torch-1.3.1+cpu torchvision-0.4.2+cpu\n"
          ],
          "name": "stdout"
        }
      ]
    },
    {
      "cell_type": "code",
      "metadata": {
        "id": "FWdg-SaEAzbX",
        "colab_type": "code",
        "colab": {}
      },
      "source": [
        "import torch\n",
        "import matplotlib.pyplot as plt\n",
        "import numpy as np"
      ],
      "execution_count": 0,
      "outputs": []
    },
    {
      "cell_type": "code",
      "metadata": {
        "id": "Q550vcQ16j9l",
        "colab_type": "code",
        "colab": {}
      },
      "source": [
        "#x = torch.tensor([2]) creates a 1 dimensional tensor with value 2"
      ],
      "execution_count": 0,
      "outputs": []
    },
    {
      "cell_type": "code",
      "metadata": {
        "id": "A1fMaRGZA42z",
        "colab_type": "code",
        "outputId": "f575b8fd-b6f3-41c0-ab53-2a08f4456cac",
        "colab": {
          "base_uri": "https://localhost:8080/",
          "height": 51
        }
      },
      "source": [
        "#generates a 2 dimensional tensor (flat) from range 11 to 17, value 17 excluded\n",
        "x = torch.arange(11, 17) \n",
        "print(x)\n",
        "#generates a 2 dimensional tensor (flat) from range 0 to 6, value 6 excluded\n",
        "y = torch.arange(6) \n",
        "print(y)"
      ],
      "execution_count": 0,
      "outputs": [
        {
          "output_type": "stream",
          "text": [
            "tensor([11, 12, 13, 14, 15, 16])\n",
            "tensor([0, 1, 2, 3, 4, 5])\n"
          ],
          "name": "stdout"
        }
      ]
    },
    {
      "cell_type": "code",
      "metadata": {
        "id": "wp5tMBkaBCRd",
        "colab_type": "code",
        "outputId": "e35fba39-725f-416e-8a5c-5239df5ade2b",
        "colab": {
          "base_uri": "https://localhost:8080/",
          "height": 34
        }
      },
      "source": [
        "#x.size() shows the size of the tensor\n",
        "y.size()"
      ],
      "execution_count": 0,
      "outputs": [
        {
          "output_type": "execute_result",
          "data": {
            "text/plain": [
              "torch.Size([6])"
            ]
          },
          "metadata": {
            "tags": []
          },
          "execution_count": 10
        }
      ]
    },
    {
      "cell_type": "code",
      "metadata": {
        "id": "Iafg3CYw5oIQ",
        "colab_type": "code",
        "outputId": "456f2462-ae8d-4092-840c-aa5eae6fc05c",
        "colab": {
          "base_uri": "https://localhost:8080/",
          "height": 34
        }
      },
      "source": [
        "#x[3] ====>> returns a 1 dimensional tensor\n",
        "#return the value inside the tensor\n",
        "x[3].item() "
      ],
      "execution_count": 0,
      "outputs": [
        {
          "output_type": "execute_result",
          "data": {
            "text/plain": [
              "14"
            ]
          },
          "metadata": {
            "tags": []
          },
          "execution_count": 18
        }
      ]
    },
    {
      "cell_type": "code",
      "metadata": {
        "id": "JbNvAC6C6RGv",
        "colab_type": "code",
        "outputId": "1a4bae2a-102e-4372-a9ff-f1ea20c88cae",
        "colab": {
          "base_uri": "https://localhost:8080/",
          "height": 102
        }
      },
      "source": [
        "#the view function is simalr to the numpy reshape function, let's your reshape the tensor to any desired dimension\n",
        "x1 = x.view(3, 1, 2)\n",
        "print(x1) \n",
        "\n",
        "y1 = torch.arange(6).view(3,2)"
      ],
      "execution_count": 0,
      "outputs": [
        {
          "output_type": "stream",
          "text": [
            "tensor([[[11, 12]],\n",
            "\n",
            "        [[13, 14]],\n",
            "\n",
            "        [[15, 16]]])\n"
          ],
          "name": "stdout"
        }
      ]
    },
    {
      "cell_type": "code",
      "metadata": {
        "id": "Q3qzNdjA93Ms",
        "colab_type": "code",
        "outputId": "4786b0ba-b520-478d-ff48-01caed709ea7",
        "colab": {
          "base_uri": "https://localhost:8080/",
          "height": 34
        }
      },
      "source": [
        "#slicing tensors\n",
        "x[3]\n",
        "y1[2,1]\n",
        "x1[2, 0, 1]"
      ],
      "execution_count": 0,
      "outputs": [
        {
          "output_type": "execute_result",
          "data": {
            "text/plain": [
              "tensor(16)"
            ]
          },
          "metadata": {
            "tags": []
          },
          "execution_count": 37
        }
      ]
    },
    {
      "cell_type": "code",
      "metadata": {
        "id": "OIk9dDKl7XHW",
        "colab_type": "code",
        "outputId": "8d87503b-5af0-441c-8a0d-8868275d104f",
        "colab": {
          "base_uri": "https://localhost:8080/",
          "height": 34
        }
      },
      "source": [
        "#tensor arithmetic\n",
        "x + y #addition\n",
        "x - y #subtraction\n",
        "x * 2 #multiplication by a scalar, each element of the tensor is multiplied by the scalar\n",
        "torch.dot(x, y) #dot product of two tensors, return a 1 dimenional tensor"
      ],
      "execution_count": 0,
      "outputs": [
        {
          "output_type": "execute_result",
          "data": {
            "text/plain": [
              "220"
            ]
          },
          "metadata": {
            "tags": []
          },
          "execution_count": 23
        }
      ]
    },
    {
      "cell_type": "code",
      "metadata": {
        "id": "4neZeU6i7oeJ",
        "colab_type": "code",
        "outputId": "edfe64e6-3732-46fe-81c3-3f8a558eec65",
        "colab": {
          "base_uri": "https://localhost:8080/",
          "height": 136
        }
      },
      "source": [
        "#matrix multiplication\n",
        "mat_a = torch.tensor([0,3,5,5,5,2]).view(2,3)\n",
        "mat_b = torch.tensor([3,4,3,-2,4,-2]).view(3,2)\n",
        "\n",
        "mat_c = torch.matmul(mat_a, mat_b)\n",
        "print(mat_a , \"\\n\", mat_b , \"\\n\", mat_c)"
      ],
      "execution_count": 0,
      "outputs": [
        {
          "output_type": "stream",
          "text": [
            "tensor([[0, 3, 5],\n",
            "        [5, 5, 2]]) \n",
            " tensor([[ 3,  4],\n",
            "        [ 3, -2],\n",
            "        [ 4, -2]]) \n",
            " tensor([[ 29, -16],\n",
            "        [ 38,   6]])\n"
          ],
          "name": "stdout"
        }
      ]
    },
    {
      "cell_type": "code",
      "metadata": {
        "id": "lGzrIWAs8bV9",
        "colab_type": "code",
        "outputId": "c6a1985c-d8aa-491e-81d6-f0fc3457bb86",
        "colab": {
          "base_uri": "https://localhost:8080/",
          "height": 51
        }
      },
      "source": [
        "#conversion from tensor to numpy array (ensure x is a tensor before running this cell)\n",
        "x = x.numpy() \n",
        "print(x)\n",
        "\n",
        "#conversion from numpy array back to tensor\n",
        "x = torch.from_numpy(x) \n",
        "print(x)\n"
      ],
      "execution_count": 0,
      "outputs": [
        {
          "output_type": "stream",
          "text": [
            "[11 12 13 14 15 16]\n",
            "tensor([11, 12, 13, 14, 15, 16])\n"
          ],
          "name": "stdout"
        }
      ]
    },
    {
      "cell_type": "code",
      "metadata": {
        "id": "DmCWCC_Q_dnP",
        "colab_type": "code",
        "outputId": "28eeedd3-755a-48c4-cee9-789ce49024d6",
        "colab": {
          "base_uri": "https://localhost:8080/",
          "height": 459
        }
      },
      "source": [
        "x2 = torch.linspace(0, 10, 100) #prints 100 equal spaced values between 0 an 10\n",
        "print(x2)\n",
        "y2 = torch.cos(x2) #y2 is a function of x2\n",
        "print(y2)"
      ],
      "execution_count": 0,
      "outputs": [
        {
          "output_type": "stream",
          "text": [
            "tensor([ 0.0000,  0.1010,  0.2020,  0.3030,  0.4040,  0.5051,  0.6061,  0.7071,\n",
            "         0.8081,  0.9091,  1.0101,  1.1111,  1.2121,  1.3131,  1.4141,  1.5152,\n",
            "         1.6162,  1.7172,  1.8182,  1.9192,  2.0202,  2.1212,  2.2222,  2.3232,\n",
            "         2.4242,  2.5253,  2.6263,  2.7273,  2.8283,  2.9293,  3.0303,  3.1313,\n",
            "         3.2323,  3.3333,  3.4343,  3.5354,  3.6364,  3.7374,  3.8384,  3.9394,\n",
            "         4.0404,  4.1414,  4.2424,  4.3434,  4.4444,  4.5455,  4.6465,  4.7475,\n",
            "         4.8485,  4.9495,  5.0505,  5.1515,  5.2525,  5.3535,  5.4545,  5.5556,\n",
            "         5.6566,  5.7576,  5.8586,  5.9596,  6.0606,  6.1616,  6.2626,  6.3636,\n",
            "         6.4646,  6.5657,  6.6667,  6.7677,  6.8687,  6.9697,  7.0707,  7.1717,\n",
            "         7.2727,  7.3737,  7.4747,  7.5758,  7.6768,  7.7778,  7.8788,  7.9798,\n",
            "         8.0808,  8.1818,  8.2828,  8.3838,  8.4848,  8.5859,  8.6869,  8.7879,\n",
            "         8.8889,  8.9899,  9.0909,  9.1919,  9.2929,  9.3939,  9.4949,  9.5960,\n",
            "         9.6970,  9.7980,  9.8990, 10.0000])\n",
            "tensor([ 1.0000,  0.9949,  0.9797,  0.9544,  0.9195,  0.8752,  0.8219,  0.7603,\n",
            "         0.6909,  0.6145,  0.5318,  0.4437,  0.3510,  0.2548,  0.1560,  0.0556,\n",
            "        -0.0453, -0.1459, -0.2449, -0.3414, -0.4344, -0.5230, -0.6063, -0.6834,\n",
            "        -0.7536, -0.8160, -0.8701, -0.9154, -0.9513, -0.9775, -0.9938, -0.9999,\n",
            "        -0.9959, -0.9817, -0.9575, -0.9235, -0.8801, -0.8277, -0.7669, -0.6983,\n",
            "        -0.6225, -0.5405, -0.4529, -0.3606, -0.2648, -0.1662, -0.0659,  0.0351,\n",
            "         0.1357,  0.2349,  0.3317,  0.4251,  0.5143,  0.5981,  0.6759,  0.7468,\n",
            "         0.8100,  0.8650,  0.9112,  0.9481,  0.9753,  0.9926,  0.9998,  0.9968,\n",
            "         0.9836,  0.9604,  0.9274,  0.8849,  0.8334,  0.7735,  0.7056,  0.6306,\n",
            "         0.5491,  0.4620,  0.3702,  0.2746,  0.1763,  0.0761, -0.0248, -0.1255,\n",
            "        -0.2249, -0.3220, -0.4158, -0.5054, -0.5898, -0.6683, -0.7399, -0.8039,\n",
            "        -0.8598, -0.9069, -0.9448, -0.9730, -0.9913, -0.9995, -0.9975, -0.9854,\n",
            "        -0.9632, -0.9312, -0.8897, -0.8391])\n"
          ],
          "name": "stdout"
        }
      ]
    },
    {
      "cell_type": "code",
      "metadata": {
        "id": "mC7H-wuT_xjs",
        "colab_type": "code",
        "outputId": "43e3da6e-d3b4-4e64-aa0e-7810b2f6b5b1",
        "colab": {
          "base_uri": "https://localhost:8080/",
          "height": 282
        }
      },
      "source": [
        "#x2 and y2 have to be converted to numpy arrays, matplotlib does plot tensors\n",
        "plt.plot(x2.numpy(), y2.numpy(), 'b') "
      ],
      "execution_count": 0,
      "outputs": [
        {
          "output_type": "execute_result",
          "data": {
            "text/plain": [
              "[<matplotlib.lines.Line2D at 0x7fb8e048f940>]"
            ]
          },
          "metadata": {
            "tags": []
          },
          "execution_count": 50
        },
        {
          "output_type": "display_data",
          "data": {
            "image/png": "[encoded data removed]",
            "text/plain": [
              "<Figure size 432x288 with 1 Axes>"
            ]
          },
          "metadata": {
            "tags": []
          }
        }
      ]
    },
    {
      "cell_type": "code",
      "metadata": {
        "id": "VvYJmavPBC_D",
        "colab_type": "code",
        "outputId": "acb712ab-92f8-454d-934b-cfac3cf21f8b",
        "colab": {
          "base_uri": "https://localhost:8080/",
          "height": 34
        }
      },
      "source": [
        "#calculating the gradient (derivative) of y3 at point x3\n",
        "#when calculating gradient \"requires_grad=True\" must be added to the tensor\n",
        "x3 = torch.tensor(2.0, requires_grad=True)\n",
        "y3 = 9*x3**4 + 2*x3**3 + 3*x3**2 + 6*x3 + 1\n",
        "y3.backward()\n",
        "x3.grad"
      ],
      "execution_count": 0,
      "outputs": [
        {
          "output_type": "execute_result",
          "data": {
            "text/plain": [
              "tensor(330.)"
            ]
          },
          "metadata": {
            "tags": []
          },
          "execution_count": 55
        }
      ]
    },
    {
      "cell_type": "code",
      "metadata": {
        "id": "bC6kAXylD1YJ",
        "colab_type": "code",
        "outputId": "a044f39c-b2bc-485b-eed4-f5d1089e8606",
        "colab": {
          "base_uri": "https://localhost:8080/",
          "height": 34
        }
      },
      "source": [
        "#calculating the gradient (partial derivative) of y4 at point x4 and z4\n",
        "x4 = torch.tensor(2.0, requires_grad=True)\n",
        "z4 = torch.tensor(2.0, requires_grad=True)\n",
        "y4 = x4**2 + z4**3\n",
        "y4.backward()\n",
        "x4.grad"
      ],
      "execution_count": 0,
      "outputs": [
        {
          "output_type": "execute_result",
          "data": {
            "text/plain": [
              "tensor(4.)"
            ]
          },
          "metadata": {
            "tags": []
          },
          "execution_count": 56
        }
      ]
    },
    {
      "cell_type": "code",
      "metadata": {
        "id": "B5NRzulWERGP",
        "colab_type": "code",
        "outputId": "e936b4b6-0f85-4dbd-c28f-23e8abe13e44",
        "colab": {
          "base_uri": "https://localhost:8080/",
          "height": 34
        }
      },
      "source": [
        "z4.grad"
      ],
      "execution_count": 0,
      "outputs": [
        {
          "output_type": "execute_result",
          "data": {
            "text/plain": [
              "tensor(12.)"
            ]
          },
          "metadata": {
            "tags": []
          },
          "execution_count": 58
        }
      ]
    }
  ]
}