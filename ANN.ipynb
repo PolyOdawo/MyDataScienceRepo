{
  "nbformat": 4,
  "nbformat_minor": 0,
  "metadata": {
    "colab": {
      "name": "ANN.ipynb",
      "provenance": [],
      "authorship_tag": "ABX9TyNxJ/BBXTK4NNpy83fZx1lM"
    },
    "kernelspec": {
      "name": "python3",
      "display_name": "Python 3"
    }
  },
  "cells": [
    {
      "cell_type": "code",
      "metadata": {
        "id": "r-YBT04rYEnS",
        "colab_type": "code",
        "colab": {}
      },
      "source": [
        "# Importing the libraries\n",
        "import numpy as np\n",
        "import matplotlib.pyplot as plt\n",
        "import pandas as pd"
      ],
      "execution_count": 0,
      "outputs": []
    },
    {
      "cell_type": "code",
      "metadata": {
        "id": "N7FVQuYzYEsT",
        "colab_type": "code",
        "colab": {
          "base_uri": "https://localhost:8080/",
          "height": 255
        },
        "outputId": "155be714-ecb6-45ba-ba0e-9faf628c4992"
      },
      "source": [
        "# Importing the dataset\n",
        "#importing the dataset\n",
        "url = \"https://raw.githubusercontent.com/PolyOdawo/MyDataScienceRepo/useful_datasets/Churn_Modelling.csv\"\n",
        "dataset = pd.read_csv(url)\n",
        "print(dataset)\n",
        "X = dataset.iloc[:, 3:13].values\n",
        "y = dataset.iloc[:, 13].values"
      ],
      "execution_count": 56,
      "outputs": [
        {
          "output_type": "stream",
          "text": [
            "      RowNumber  CustomerId    Surname  ...  IsActiveMember EstimatedSalary Exited\n",
            "0             1    15634602   Hargrave  ...               1       101348.88      1\n",
            "1             2    15647311       Hill  ...               1       112542.58      0\n",
            "2             3    15619304       Onio  ...               0       113931.57      1\n",
            "3             4    15701354       Boni  ...               0        93826.63      0\n",
            "4             5    15737888   Mitchell  ...               1        79084.10      0\n",
            "...         ...         ...        ...  ...             ...             ...    ...\n",
            "9995       9996    15606229   Obijiaku  ...               0        96270.64      0\n",
            "9996       9997    15569892  Johnstone  ...               1       101699.77      0\n",
            "9997       9998    15584532        Liu  ...               1        42085.58      1\n",
            "9998       9999    15682355  Sabbatini  ...               0        92888.52      1\n",
            "9999      10000    15628319     Walker  ...               0        38190.78      0\n",
            "\n",
            "[10000 rows x 14 columns]\n"
          ],
          "name": "stdout"
        }
      ]
    },
    {
      "cell_type": "code",
      "metadata": {
        "id": "8ZmDWd-1YEwQ",
        "colab_type": "code",
        "colab": {}
      },
      "source": [
        "# Encoding categorical data\n",
        "from sklearn.preprocessing import OneHotEncoder\n",
        "from sklearn.compose import make_column_transformer\n",
        "transformer = ColumnTransformer([(\"cat\", OneHotEncoder(), [1, 2])], remainder = 'passthrough')\n",
        "X = transformer.fit_transform(X)\n",
        "X = X[:, 2:]"
      ],
      "execution_count": 0,
      "outputs": []
    },
    {
      "cell_type": "code",
      "metadata": {
        "id": "8CSVtcVgdQCj",
        "colab_type": "code",
        "colab": {}
      },
      "source": [
        "# Splitting the dataset into the Training set and Test set\n",
        "from sklearn.model_selection import train_test_split\n",
        "X_train, X_test, y_train, y_test = train_test_split(X, y, test_size = 0.2, random_state = 0)"
      ],
      "execution_count": 0,
      "outputs": []
    },
    {
      "cell_type": "code",
      "metadata": {
        "id": "e_yv5z9UjEHC",
        "colab_type": "code",
        "colab": {}
      },
      "source": [
        "# Feature Scaling\n",
        "from sklearn.preprocessing import StandardScaler\n",
        "sc = StandardScaler(with_mean=False)\n",
        "X_train = sc.fit_transform(X_train)\n",
        "X_test = sc.transform(X_test)"
      ],
      "execution_count": 0,
      "outputs": []
    },
    {
      "cell_type": "code",
      "metadata": {
        "id": "c6As_222Yc96",
        "colab_type": "code",
        "colab": {}
      },
      "source": [
        "# Importing the Keras libraries and packages\n",
        "import keras\n",
        "from keras.models import Sequential\n",
        "from keras.layers import Dense"
      ],
      "execution_count": 0,
      "outputs": []
    },
    {
      "cell_type": "code",
      "metadata": {
        "id": "CuWhcW5PjUXd",
        "colab_type": "code",
        "colab": {}
      },
      "source": [
        "# Initialising the ANN\n",
        "classifier = Sequential()"
      ],
      "execution_count": 0,
      "outputs": []
    },
    {
      "cell_type": "code",
      "metadata": {
        "id": "9VkKfk64jpqQ",
        "colab_type": "code",
        "colab": {
          "base_uri": "https://localhost:8080/",
          "height": 119
        },
        "outputId": "8576bacf-c47e-4761-ca9a-3f580f69b686"
      },
      "source": [
        "# Adding the input layer and the first hidden layer\n",
        "classifier.add(Dense(output_dim = 6, init = 'uniform', activation = 'relu', input_dim = 11))\n",
        "\n",
        "# Adding the second hidden layer\n",
        "classifier.add(Dense(output_dim = 6, init = 'uniform', activation = 'relu'))\n",
        "\n",
        "# Adding the output layer\n",
        "classifier.add(Dense(output_dim = 1, init = 'uniform', activation = 'sigmoid'))\n",
        "\n",
        "# Compiling the ANN\n",
        "classifier.compile(optimizer = 'adam', loss = 'binary_crossentropy', metrics = ['accuracy'])"
      ],
      "execution_count": 62,
      "outputs": [
        {
          "output_type": "stream",
          "text": [
            "/usr/local/lib/python3.6/dist-packages/ipykernel_launcher.py:1: UserWarning: Update your `Dense` call to the Keras 2 API: `Dense(activation=\"relu\", input_dim=11, units=6, kernel_initializer=\"uniform\")`\n",
            "  \"\"\"Entry point for launching an IPython kernel.\n",
            "/usr/local/lib/python3.6/dist-packages/ipykernel_launcher.py:4: UserWarning: Update your `Dense` call to the Keras 2 API: `Dense(activation=\"relu\", units=6, kernel_initializer=\"uniform\")`\n",
            "  after removing the cwd from sys.path.\n",
            "/usr/local/lib/python3.6/dist-packages/ipykernel_launcher.py:7: UserWarning: Update your `Dense` call to the Keras 2 API: `Dense(activation=\"sigmoid\", units=1, kernel_initializer=\"uniform\")`\n",
            "  import sys\n"
          ],
          "name": "stderr"
        }
      ]
    },
    {
      "cell_type": "code",
      "metadata": {
        "id": "9EvtP6lujpsw",
        "colab_type": "code",
        "colab": {
          "base_uri": "https://localhost:8080/",
          "height": 1000
        },
        "outputId": "64131a11-b6fe-4546-c781-d145ff2a544b"
      },
      "source": [
        "# Fitting the ANN to the Training set\n",
        "classifier.fit(X_train, y_train, batch_size = 10, epochs = 100)"
      ],
      "execution_count": 63,
      "outputs": [
        {
          "output_type": "stream",
          "text": [
            "WARNING:tensorflow:From /usr/local/lib/python3.6/dist-packages/keras/backend/tensorflow_backend.py:1033: The name tf.assign_add is deprecated. Please use tf.compat.v1.assign_add instead.\n",
            "\n",
            "WARNING:tensorflow:From /usr/local/lib/python3.6/dist-packages/keras/backend/tensorflow_backend.py:1020: The name tf.assign is deprecated. Please use tf.compat.v1.assign instead.\n",
            "\n",
            "WARNING:tensorflow:From /usr/local/lib/python3.6/dist-packages/keras/backend/tensorflow_backend.py:3005: The name tf.Session is deprecated. Please use tf.compat.v1.Session instead.\n",
            "\n",
            "Epoch 1/100\n",
            "WARNING:tensorflow:From /usr/local/lib/python3.6/dist-packages/keras/backend/tensorflow_backend.py:190: The name tf.get_default_session is deprecated. Please use tf.compat.v1.get_default_session instead.\n",
            "\n",
            "WARNING:tensorflow:From /usr/local/lib/python3.6/dist-packages/keras/backend/tensorflow_backend.py:197: The name tf.ConfigProto is deprecated. Please use tf.compat.v1.ConfigProto instead.\n",
            "\n",
            "WARNING:tensorflow:From /usr/local/lib/python3.6/dist-packages/keras/backend/tensorflow_backend.py:207: The name tf.global_variables is deprecated. Please use tf.compat.v1.global_variables instead.\n",
            "\n",
            "WARNING:tensorflow:From /usr/local/lib/python3.6/dist-packages/keras/backend/tensorflow_backend.py:216: The name tf.is_variable_initialized is deprecated. Please use tf.compat.v1.is_variable_initialized instead.\n",
            "\n",
            "WARNING:tensorflow:From /usr/local/lib/python3.6/dist-packages/keras/backend/tensorflow_backend.py:223: The name tf.variables_initializer is deprecated. Please use tf.compat.v1.variables_initializer instead.\n",
            "\n",
            "8000/8000 [==============================] - 2s 219us/step - loss: 0.5326 - acc: 0.7950\n",
            "Epoch 2/100\n",
            "8000/8000 [==============================] - 1s 123us/step - loss: 0.4939 - acc: 0.7960\n",
            "Epoch 3/100\n",
            "8000/8000 [==============================] - 1s 120us/step - loss: 0.4802 - acc: 0.7960\n",
            "Epoch 4/100\n",
            "8000/8000 [==============================] - 1s 123us/step - loss: 0.4667 - acc: 0.7960\n",
            "Epoch 5/100\n",
            "8000/8000 [==============================] - 1s 125us/step - loss: 0.4590 - acc: 0.7960\n",
            "Epoch 6/100\n",
            "8000/8000 [==============================] - 1s 126us/step - loss: 0.4543 - acc: 0.7960\n",
            "Epoch 7/100\n",
            "8000/8000 [==============================] - 1s 127us/step - loss: 0.4510 - acc: 0.7960\n",
            "Epoch 8/100\n",
            "8000/8000 [==============================] - 1s 130us/step - loss: 0.4487 - acc: 0.7960\n",
            "Epoch 9/100\n",
            "8000/8000 [==============================] - 1s 126us/step - loss: 0.4471 - acc: 0.7960\n",
            "Epoch 10/100\n",
            "8000/8000 [==============================] - 1s 126us/step - loss: 0.4462 - acc: 0.7960\n",
            "Epoch 11/100\n",
            "8000/8000 [==============================] - 1s 129us/step - loss: 0.4450 - acc: 0.7960\n",
            "Epoch 12/100\n",
            "8000/8000 [==============================] - 1s 130us/step - loss: 0.4441 - acc: 0.7961\n",
            "Epoch 13/100\n",
            "8000/8000 [==============================] - 1s 126us/step - loss: 0.4432 - acc: 0.7965\n",
            "Epoch 14/100\n",
            "8000/8000 [==============================] - 1s 126us/step - loss: 0.4429 - acc: 0.7984\n",
            "Epoch 15/100\n",
            "8000/8000 [==============================] - 1s 128us/step - loss: 0.4424 - acc: 0.8041\n",
            "Epoch 16/100\n",
            "8000/8000 [==============================] - 1s 128us/step - loss: 0.4417 - acc: 0.8064\n",
            "Epoch 17/100\n",
            "8000/8000 [==============================] - 1s 130us/step - loss: 0.4413 - acc: 0.8049\n",
            "Epoch 18/100\n",
            "8000/8000 [==============================] - 1s 128us/step - loss: 0.4405 - acc: 0.8062\n",
            "Epoch 19/100\n",
            "8000/8000 [==============================] - 1s 128us/step - loss: 0.4394 - acc: 0.8084\n",
            "Epoch 20/100\n",
            "8000/8000 [==============================] - 1s 123us/step - loss: 0.4385 - acc: 0.8085\n",
            "Epoch 21/100\n",
            "8000/8000 [==============================] - 1s 124us/step - loss: 0.4382 - acc: 0.8087\n",
            "Epoch 22/100\n",
            "8000/8000 [==============================] - 1s 123us/step - loss: 0.4370 - acc: 0.8097\n",
            "Epoch 23/100\n",
            "8000/8000 [==============================] - 1s 123us/step - loss: 0.4364 - acc: 0.8110\n",
            "Epoch 24/100\n",
            "8000/8000 [==============================] - 1s 125us/step - loss: 0.4357 - acc: 0.8134\n",
            "Epoch 25/100\n",
            "8000/8000 [==============================] - 1s 126us/step - loss: 0.4342 - acc: 0.8170\n",
            "Epoch 26/100\n",
            "8000/8000 [==============================] - 1s 128us/step - loss: 0.4336 - acc: 0.8172\n",
            "Epoch 27/100\n",
            "8000/8000 [==============================] - 1s 133us/step - loss: 0.4328 - acc: 0.8162\n",
            "Epoch 28/100\n",
            "8000/8000 [==============================] - 1s 129us/step - loss: 0.4320 - acc: 0.8184\n",
            "Epoch 29/100\n",
            "8000/8000 [==============================] - 1s 122us/step - loss: 0.4303 - acc: 0.8210\n",
            "Epoch 30/100\n",
            "8000/8000 [==============================] - 1s 126us/step - loss: 0.4301 - acc: 0.8212\n",
            "Epoch 31/100\n",
            "8000/8000 [==============================] - 1s 125us/step - loss: 0.4286 - acc: 0.8217\n",
            "Epoch 32/100\n",
            "8000/8000 [==============================] - 1s 126us/step - loss: 0.4281 - acc: 0.8232\n",
            "Epoch 33/100\n",
            "8000/8000 [==============================] - 1s 128us/step - loss: 0.4270 - acc: 0.8229\n",
            "Epoch 34/100\n",
            "8000/8000 [==============================] - 1s 122us/step - loss: 0.4268 - acc: 0.8225\n",
            "Epoch 35/100\n",
            "8000/8000 [==============================] - 1s 125us/step - loss: 0.4260 - acc: 0.8239\n",
            "Epoch 36/100\n",
            "8000/8000 [==============================] - 1s 126us/step - loss: 0.4251 - acc: 0.8262\n",
            "Epoch 37/100\n",
            "8000/8000 [==============================] - 1s 129us/step - loss: 0.4242 - acc: 0.8255\n",
            "Epoch 38/100\n",
            "8000/8000 [==============================] - 1s 126us/step - loss: 0.4233 - acc: 0.8267\n",
            "Epoch 39/100\n",
            "8000/8000 [==============================] - 1s 126us/step - loss: 0.4233 - acc: 0.8287\n",
            "Epoch 40/100\n",
            "8000/8000 [==============================] - 1s 128us/step - loss: 0.4222 - acc: 0.8279\n",
            "Epoch 41/100\n",
            "8000/8000 [==============================] - 1s 125us/step - loss: 0.4222 - acc: 0.8281\n",
            "Epoch 42/100\n",
            "8000/8000 [==============================] - 1s 125us/step - loss: 0.4216 - acc: 0.8290\n",
            "Epoch 43/100\n",
            "8000/8000 [==============================] - 1s 126us/step - loss: 0.4217 - acc: 0.8277\n",
            "Epoch 44/100\n",
            "8000/8000 [==============================] - 1s 123us/step - loss: 0.4210 - acc: 0.8282\n",
            "Epoch 45/100\n",
            "8000/8000 [==============================] - 1s 125us/step - loss: 0.4198 - acc: 0.8320\n",
            "Epoch 46/100\n",
            "8000/8000 [==============================] - 1s 126us/step - loss: 0.4202 - acc: 0.8289\n",
            "Epoch 47/100\n",
            "8000/8000 [==============================] - 1s 128us/step - loss: 0.4192 - acc: 0.8304\n",
            "Epoch 48/100\n",
            "8000/8000 [==============================] - 1s 125us/step - loss: 0.4191 - acc: 0.8305\n",
            "Epoch 49/100\n",
            "8000/8000 [==============================] - 1s 125us/step - loss: 0.4185 - acc: 0.8285\n",
            "Epoch 50/100\n",
            "8000/8000 [==============================] - 1s 123us/step - loss: 0.4187 - acc: 0.8301\n",
            "Epoch 51/100\n",
            "8000/8000 [==============================] - 1s 125us/step - loss: 0.4177 - acc: 0.8306\n",
            "Epoch 52/100\n",
            "8000/8000 [==============================] - 1s 124us/step - loss: 0.4170 - acc: 0.8300\n",
            "Epoch 53/100\n",
            "8000/8000 [==============================] - 1s 120us/step - loss: 0.4172 - acc: 0.8321\n",
            "Epoch 54/100\n",
            "8000/8000 [==============================] - 1s 126us/step - loss: 0.4170 - acc: 0.8301\n",
            "Epoch 55/100\n",
            "8000/8000 [==============================] - 1s 119us/step - loss: 0.4169 - acc: 0.8296\n",
            "Epoch 56/100\n",
            "8000/8000 [==============================] - 1s 125us/step - loss: 0.4167 - acc: 0.8310\n",
            "Epoch 57/100\n",
            "8000/8000 [==============================] - 1s 123us/step - loss: 0.4166 - acc: 0.8312\n",
            "Epoch 58/100\n",
            "8000/8000 [==============================] - 1s 124us/step - loss: 0.4172 - acc: 0.8314\n",
            "Epoch 59/100\n",
            "8000/8000 [==============================] - 1s 122us/step - loss: 0.4166 - acc: 0.8301\n",
            "Epoch 60/100\n",
            "8000/8000 [==============================] - 1s 123us/step - loss: 0.4155 - acc: 0.8319\n",
            "Epoch 61/100\n",
            "8000/8000 [==============================] - 1s 124us/step - loss: 0.4163 - acc: 0.8329\n",
            "Epoch 62/100\n",
            "8000/8000 [==============================] - 1s 122us/step - loss: 0.4156 - acc: 0.8311\n",
            "Epoch 63/100\n",
            "8000/8000 [==============================] - 1s 123us/step - loss: 0.4154 - acc: 0.8317\n",
            "Epoch 64/100\n",
            "8000/8000 [==============================] - 1s 124us/step - loss: 0.4153 - acc: 0.8317\n",
            "Epoch 65/100\n",
            "8000/8000 [==============================] - 1s 124us/step - loss: 0.4156 - acc: 0.8315\n",
            "Epoch 66/100\n",
            "8000/8000 [==============================] - 1s 128us/step - loss: 0.4149 - acc: 0.8317\n",
            "Epoch 67/100\n",
            "8000/8000 [==============================] - 1s 123us/step - loss: 0.4146 - acc: 0.8292\n",
            "Epoch 68/100\n",
            "8000/8000 [==============================] - 1s 126us/step - loss: 0.4149 - acc: 0.8311\n",
            "Epoch 69/100\n",
            "8000/8000 [==============================] - 1s 128us/step - loss: 0.4145 - acc: 0.8312\n",
            "Epoch 70/100\n",
            "8000/8000 [==============================] - 1s 125us/step - loss: 0.4147 - acc: 0.8319\n",
            "Epoch 71/100\n",
            "8000/8000 [==============================] - 1s 126us/step - loss: 0.4147 - acc: 0.8325\n",
            "Epoch 72/100\n",
            "8000/8000 [==============================] - 1s 135us/step - loss: 0.4145 - acc: 0.8322\n",
            "Epoch 73/100\n",
            "8000/8000 [==============================] - 1s 149us/step - loss: 0.4138 - acc: 0.8326\n",
            "Epoch 74/100\n",
            "8000/8000 [==============================] - 1s 139us/step - loss: 0.4142 - acc: 0.8316\n",
            "Epoch 75/100\n",
            "8000/8000 [==============================] - 1s 140us/step - loss: 0.4136 - acc: 0.8307\n",
            "Epoch 76/100\n",
            "8000/8000 [==============================] - 1s 139us/step - loss: 0.4140 - acc: 0.8315\n",
            "Epoch 77/100\n",
            "8000/8000 [==============================] - 1s 143us/step - loss: 0.4137 - acc: 0.8320\n",
            "Epoch 78/100\n",
            "8000/8000 [==============================] - 1s 144us/step - loss: 0.4134 - acc: 0.8317\n",
            "Epoch 79/100\n",
            "8000/8000 [==============================] - 1s 138us/step - loss: 0.4138 - acc: 0.8319\n",
            "Epoch 80/100\n",
            "8000/8000 [==============================] - 1s 141us/step - loss: 0.4135 - acc: 0.8324\n",
            "Epoch 81/100\n",
            "8000/8000 [==============================] - 1s 138us/step - loss: 0.4140 - acc: 0.8306\n",
            "Epoch 82/100\n",
            "8000/8000 [==============================] - 1s 125us/step - loss: 0.4130 - acc: 0.8326\n",
            "Epoch 83/100\n",
            "8000/8000 [==============================] - 1s 125us/step - loss: 0.4137 - acc: 0.8311\n",
            "Epoch 84/100\n",
            "8000/8000 [==============================] - 1s 126us/step - loss: 0.4125 - acc: 0.8312\n",
            "Epoch 85/100\n",
            "8000/8000 [==============================] - 1s 131us/step - loss: 0.4131 - acc: 0.8315\n",
            "Epoch 86/100\n",
            "8000/8000 [==============================] - 1s 126us/step - loss: 0.4127 - acc: 0.8309\n",
            "Epoch 87/100\n",
            "8000/8000 [==============================] - 1s 126us/step - loss: 0.4133 - acc: 0.8302\n",
            "Epoch 88/100\n",
            "8000/8000 [==============================] - 1s 127us/step - loss: 0.4130 - acc: 0.8316\n",
            "Epoch 89/100\n",
            "8000/8000 [==============================] - 1s 123us/step - loss: 0.4128 - acc: 0.8321\n",
            "Epoch 90/100\n",
            "8000/8000 [==============================] - 1s 125us/step - loss: 0.4130 - acc: 0.8319\n",
            "Epoch 91/100\n",
            "8000/8000 [==============================] - 1s 126us/step - loss: 0.4138 - acc: 0.8306\n",
            "Epoch 92/100\n",
            "8000/8000 [==============================] - 1s 126us/step - loss: 0.4130 - acc: 0.8306\n",
            "Epoch 93/100\n",
            "8000/8000 [==============================] - 1s 130us/step - loss: 0.4130 - acc: 0.8315\n",
            "Epoch 94/100\n",
            "8000/8000 [==============================] - 1s 122us/step - loss: 0.4125 - acc: 0.8315\n",
            "Epoch 95/100\n",
            "8000/8000 [==============================] - 1s 126us/step - loss: 0.4123 - acc: 0.8321\n",
            "Epoch 96/100\n",
            "8000/8000 [==============================] - 1s 127us/step - loss: 0.4123 - acc: 0.8320\n",
            "Epoch 97/100\n",
            "8000/8000 [==============================] - 1s 125us/step - loss: 0.4125 - acc: 0.8334\n",
            "Epoch 98/100\n",
            "8000/8000 [==============================] - 1s 124us/step - loss: 0.4123 - acc: 0.8325\n",
            "Epoch 99/100\n",
            "8000/8000 [==============================] - 1s 129us/step - loss: 0.4122 - acc: 0.8337\n",
            "Epoch 100/100\n",
            "8000/8000 [==============================] - 1s 126us/step - loss: 0.4124 - acc: 0.8320\n"
          ],
          "name": "stdout"
        },
        {
          "output_type": "execute_result",
          "data": {
            "text/plain": [
              "<keras.callbacks.History at 0x7f6383119438>"
            ]
          },
          "metadata": {
            "tags": []
          },
          "execution_count": 63
        }
      ]
    },
    {
      "cell_type": "code",
      "metadata": {
        "id": "0IF4-5Wtjpv7",
        "colab_type": "code",
        "colab": {
          "base_uri": "https://localhost:8080/",
          "height": 136
        },
        "outputId": "cd43ab9c-d201-45aa-fb64-41c1c458cc49"
      },
      "source": [
        "# Predicting the Test set results\n",
        "y_pred = classifier.predict(X_test)\n",
        "y_pred = (y_pred > 0.5)\n",
        "print(y_pred)"
      ],
      "execution_count": 66,
      "outputs": [
        {
          "output_type": "stream",
          "text": [
            "[[False]\n",
            " [False]\n",
            " [False]\n",
            " ...\n",
            " [False]\n",
            " [False]\n",
            " [False]]\n"
          ],
          "name": "stdout"
        }
      ]
    },
    {
      "cell_type": "code",
      "metadata": {
        "id": "qM09j19Djpyl",
        "colab_type": "code",
        "colab": {
          "base_uri": "https://localhost:8080/",
          "height": 51
        },
        "outputId": "6a790e9e-a502-4411-86ca-bf190beb47e2"
      },
      "source": [
        "# Making the Confusion Matrix\n",
        "from sklearn.metrics import confusion_matrix\n",
        "cm = confusion_matrix(y_test, y_pred)\n",
        "print(cm)"
      ],
      "execution_count": 67,
      "outputs": [
        {
          "output_type": "stream",
          "text": [
            "[[1564   31]\n",
            " [ 288  117]]\n"
          ],
          "name": "stdout"
        }
      ]
    }
  ]
}